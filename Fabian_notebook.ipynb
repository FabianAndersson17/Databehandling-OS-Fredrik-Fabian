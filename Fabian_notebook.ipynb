{
 "cells": [
  {
   "cell_type": "markdown",
   "metadata": {},
   "source": [
    "## Uppigft 0 c)"
   ]
  },
  {
   "cell_type": "code",
   "execution_count": 72,
   "metadata": {},
   "outputs": [],
   "source": [
    "##setup\n",
    "import pandas as pd"
   ]
  },
  {
   "cell_type": "code",
   "execution_count": 73,
   "metadata": {},
   "outputs": [],
   "source": [
    "## Read datafiles\n",
    "athlete_path = \"Data/athlete_events.csv\"\n",
    "regions_path = \"Data/noc_regions.csv\"\n",
    "\n",
    "athlete_data = pd.read_csv(athlete_path)\n",
    "region_data = pd.read_csv(regions_path)"
   ]
  },
  {
   "cell_type": "code",
   "execution_count": 74,
   "metadata": {},
   "outputs": [
    {
     "name": "stdout",
     "output_type": "stream",
     "text": [
      "Sports in the dataset are Basketball\n",
      "Sports in the dataset are Judo\n",
      "Sports in the dataset are Football\n",
      "Sports in the dataset are Tug-Of-War\n",
      "Sports in the dataset are Speed Skating\n",
      "Sports in the dataset are Cross Country Skiing\n",
      "Sports in the dataset are Athletics\n",
      "Sports in the dataset are Ice Hockey\n",
      "Sports in the dataset are Swimming\n",
      "Sports in the dataset are Badminton\n",
      "Sports in the dataset are Sailing\n",
      "Sports in the dataset are Biathlon\n",
      "Sports in the dataset are Gymnastics\n",
      "Sports in the dataset are Art Competitions\n",
      "Sports in the dataset are Alpine Skiing\n",
      "Sports in the dataset are Handball\n",
      "Sports in the dataset are Weightlifting\n",
      "Sports in the dataset are Wrestling\n",
      "Sports in the dataset are Luge\n",
      "Sports in the dataset are Water Polo\n",
      "Sports in the dataset are Hockey\n",
      "Sports in the dataset are Rowing\n",
      "Sports in the dataset are Bobsleigh\n",
      "Sports in the dataset are Fencing\n",
      "Sports in the dataset are Equestrianism\n",
      "Sports in the dataset are Shooting\n",
      "Sports in the dataset are Boxing\n",
      "Sports in the dataset are Taekwondo\n",
      "Sports in the dataset are Cycling\n",
      "Sports in the dataset are Diving\n",
      "Sports in the dataset are Canoeing\n",
      "Sports in the dataset are Tennis\n",
      "Sports in the dataset are Modern Pentathlon\n",
      "Sports in the dataset are Figure Skating\n",
      "Sports in the dataset are Golf\n",
      "Sports in the dataset are Softball\n",
      "Sports in the dataset are Archery\n",
      "Sports in the dataset are Volleyball\n",
      "Sports in the dataset are Synchronized Swimming\n",
      "Sports in the dataset are Table Tennis\n",
      "Sports in the dataset are Nordic Combined\n",
      "Sports in the dataset are Baseball\n",
      "Sports in the dataset are Rhythmic Gymnastics\n",
      "Sports in the dataset are Freestyle Skiing\n",
      "Sports in the dataset are Rugby Sevens\n",
      "Sports in the dataset are Trampolining\n",
      "Sports in the dataset are Beach Volleyball\n",
      "Sports in the dataset are Triathlon\n",
      "Sports in the dataset are Ski Jumping\n",
      "Sports in the dataset are Curling\n",
      "Sports in the dataset are Snowboarding\n",
      "Sports in the dataset are Rugby\n",
      "Sports in the dataset are Short Track Speed Skating\n",
      "Sports in the dataset are Skeleton\n",
      "Sports in the dataset are Lacrosse\n",
      "Sports in the dataset are Polo\n",
      "Sports in the dataset are Cricket\n",
      "Sports in the dataset are Racquets\n",
      "Sports in the dataset are Motorboating\n",
      "Sports in the dataset are Military Ski Patrol\n",
      "Sports in the dataset are Croquet\n",
      "Sports in the dataset are Jeu De Paume\n",
      "Sports in the dataset are Roque\n",
      "Sports in the dataset are Alpinism\n",
      "Sports in the dataset are Basque Pelota\n",
      "Sports in the dataset are Aeronautics\n"
     ]
    }
   ],
   "source": [
    "sports_in_dataset = athlete_data[\"Sport\"].unique()\n",
    "list_index = 0\n",
    "for _ in sports_in_dataset:\n",
    "    print(f\"Sports in the dataset are {sports_in_dataset[list_index]}\")\n",
    "    list_index += 1\n"
   ]
  },
  {
   "cell_type": "code",
   "execution_count": 75,
   "metadata": {},
   "outputs": [
    {
     "name": "stdout",
     "output_type": "stream",
     "text": [
      "Types of medal are Gold\n",
      "Types of medal are Bronze\n",
      "Types of medal are Silver\n"
     ]
    }
   ],
   "source": [
    "type_of_medals = athlete_data[\"Medal\"].unique()\n",
    "type_of_medals = type_of_medals.tolist()\n",
    "list_index = 0\n",
    "for _ in type_of_medals:\n",
    "    if list_index == 0:\n",
    "        pass\n",
    "    else:\n",
    "        print(f\"Types of medal are {type_of_medals[list_index]}\")\n",
    "    list_index += 1"
   ]
  },
  {
   "cell_type": "code",
   "execution_count": 76,
   "metadata": {},
   "outputs": [
    {
     "data": {
      "text/plain": [
       "count    261642.000000\n",
       "mean         25.556898\n",
       "std           6.393561\n",
       "min          10.000000\n",
       "25%          21.000000\n",
       "50%          24.000000\n",
       "75%          28.000000\n",
       "max          97.000000\n",
       "Name: Age, dtype: float64"
      ]
     },
     "execution_count": 76,
     "metadata": {},
     "output_type": "execute_result"
    }
   ],
   "source": [
    "athlete_data[\"Age\"].describe()"
   ]
  },
  {
   "cell_type": "markdown",
   "metadata": {},
   "source": [
    "## Youngest and oldest athlete and sport"
   ]
  },
  {
   "cell_type": "code",
   "execution_count": 77,
   "metadata": {},
   "outputs": [
    {
     "name": "stdout",
     "output_type": "stream",
     "text": [
      "The youngest athlete ever was Dimitrios Loundras. He competed in Gymnastics when he was 10.0 in the year: 1896\n",
      "The oldest athlete ever was John Quincy Adams Ward. He competed in Art Competitions when he was 97.0 in the year: 1928\n"
     ]
    }
   ],
   "source": [
    "oldest_athlete_data = athlete_data.sort_values(by=\"Age\", ascending=False).reset_index(drop=True)\n",
    "youngest_athlete_data = athlete_data.sort_values(by=\"Age\", ascending=True).reset_index(drop=True)\n",
    "oldest_athlete = oldest_athlete_data.loc[(oldest_athlete_data[\"Age\"] == 97) , [\"Name\", \"Sport\", \"Age\",\"Year\"]]\n",
    "youngest_athlete = youngest_athlete_data.loc[(youngest_athlete_data[\"Age\"] == 10), [\"Name\", \"Sport\", \"Age\", \"Year\"]]\n",
    "oldest_athlete = oldest_athlete.values[0]\n",
    "oldest_athlete = oldest_athlete.tolist()\n",
    "youngest_athlete = youngest_athlete.values[0]\n",
    "youngest_athlete = youngest_athlete.tolist()\n",
    "\n",
    "print(f\"The youngest athlete ever was {youngest_athlete[0]}. He competed in {youngest_athlete[1]} when he was {youngest_athlete[2]} in the year: {youngest_athlete[3]}\")\n",
    "print(f\"The oldest athlete ever was {oldest_athlete[0]}. He competed in {oldest_athlete[1]} when he was {oldest_athlete[2]} in the year: {oldest_athlete[3]}\")"
   ]
  },
  {
   "cell_type": "markdown",
   "metadata": {},
   "source": [
    "## Oldest sport"
   ]
  },
  {
   "cell_type": "code",
   "execution_count": 78,
   "metadata": {},
   "outputs": [
    {
     "name": "stdout",
     "output_type": "stream",
     "text": [
      "The oldest sports in the olympicts are:\n",
      "Gymnastics\n",
      "Athletics\n",
      "Shooting\n",
      "Tennis\n",
      "Fencing\n",
      "Swimming\n",
      "Cycling\n",
      "Weightlifting\n",
      "Wrestling\n"
     ]
    }
   ],
   "source": [
    "oldest_sport_data = athlete_data.sort_values(by=\"Year\", ascending=True).reset_index(drop=True)\n",
    "oldest_sport_data = oldest_sport_data.loc[(oldest_sport_data[\"Year\"] == 1896), [\"Sport\"]].drop_duplicates().reset_index(drop=True)\n",
    "oldest_sports = oldest_sport_data.values.tolist()\n",
    "oldest_sports = [i for list_item in oldest_sports for i in list_item] ## Coverts nested list to a normal list\n",
    "oldest_sports ## Code insperation taken from https://thispointer.com/python-convert-list-of-lists-or-nested-list-to-flat-list/\n",
    "list_index = 0\n",
    "print(\"The oldest sports in the olympicts are:\")\n",
    "for _ in oldest_sports:\n",
    "    print(oldest_sports[list_index])\n",
    "    list_index += 1\n"
   ]
  },
  {
   "cell_type": "markdown",
   "metadata": {},
   "source": [
    "## Country with the most gold"
   ]
  },
  {
   "cell_type": "code",
   "execution_count": 93,
   "metadata": {},
   "outputs": [
    {
     "name": "stdout",
     "output_type": "stream",
     "text": [
      "                 Team\n",
      "count           13372\n",
      "unique            242\n",
      "top     United States\n",
      "freq             2474\n",
      "The country with the highest number of gold medals is the USA\n"
     ]
    }
   ],
   "source": [
    "gold_medals = athlete_data.loc[(athlete_data[\"Medal\"] == \"Gold\"), [\"Team\"]].reset_index(drop=True)\n",
    "print(gold_medals.describe())\n",
    "print(\"The country with the highest number of gold medals is the USA\")"
   ]
  },
  {
   "cell_type": "markdown",
   "metadata": {},
   "source": [
    "## Number of medals"
   ]
  },
  {
   "cell_type": "code",
   "execution_count": 129,
   "metadata": {},
   "outputs": [
    {
     "name": "stdout",
     "output_type": "stream",
     "text": [
      "Russias top sport through the years have been Gymnastics\n",
      "count           3561\n",
      "unique            42\n",
      "top       Gymnastics\n",
      "freq             371\n",
      "Name: Sport, dtype: object\n"
     ]
    }
   ],
   "source": [
    "russia_data = athlete_data[athlete_data[\"Team\"].isin([\"Russia\", \"Soviet Union\"])].reset_index(drop=True)\n",
    "russia_gold = russia_data[(russia_data[\"Medal\"] == \"Gold\")].reset_index(drop=True)\n",
    "russia_silver = russia_data[(russia_data[\"Medal\"] == \"Silver\")].reset_index(drop=True)\n",
    "russia_bronze = russia_data[(russia_data[\"Medal\"] == \"Bronze\")].reset_index(drop=True)\n",
    "russia_medals = pd.concat([russia_gold, russia_silver, russia_bronze])\n",
    "print(\"Russias top sport through the years have been Gymnastics\")\n",
    "print(russia_medals[\"Sport\"].describe())"
   ]
  },
  {
   "cell_type": "markdown",
   "metadata": {},
   "source": [
    "### Russias best athlete"
   ]
  },
  {
   "cell_type": "code",
   "execution_count": 132,
   "metadata": {},
   "outputs": [
    {
     "name": "stdout",
     "output_type": "stream",
     "text": [
      "Russia's best athlete is Larysa Semenivna Latynina\n",
      "count                                   3561\n",
      "unique                                  2406\n",
      "top       Larysa Semenivna Latynina (Diriy-)\n",
      "freq                                      18\n",
      "Name: Name, dtype: object\n"
     ]
    }
   ],
   "source": [
    "print(\"Russia's best athlete is Larysa Semenivna Latynina\")\n",
    "print(russia_medals[\"Name\"].describe())"
   ]
  }
 ],
 "metadata": {
  "interpreter": {
   "hash": "bc671ac5dcf0c04d0537d7ef61db74040aac90f2d832bed4a17e0aad2956bb51"
  },
  "kernelspec": {
   "display_name": "Python 3.9.6 64-bit",
   "language": "python",
   "name": "python3"
  },
  "language_info": {
   "codemirror_mode": {
    "name": "ipython",
    "version": 3
   },
   "file_extension": ".py",
   "mimetype": "text/x-python",
   "name": "python",
   "nbconvert_exporter": "python",
   "pygments_lexer": "ipython3",
   "version": "3.9.6"
  },
  "orig_nbformat": 4
 },
 "nbformat": 4,
 "nbformat_minor": 2
}
