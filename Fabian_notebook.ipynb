{
 "cells": [
  {
   "cell_type": "markdown",
   "metadata": {},
   "source": [
    "## Uppigft 0 c)"
   ]
  },
  {
   "cell_type": "code",
   "execution_count": 1,
   "metadata": {},
   "outputs": [],
   "source": [
    "##setup\n",
    "import pandas as pd"
   ]
  },
  {
   "cell_type": "code",
   "execution_count": 2,
   "metadata": {},
   "outputs": [],
   "source": [
    "## Read datafiles\n",
    "athlete_path = \"Data/athlete_events.csv\"\n",
    "regions_path = \"Data/noc_regions.csv\"\n",
    "\n",
    "athlete_data = pd.read_csv(athlete_path)\n",
    "region_data = pd.read_csv(regions_path)"
   ]
  },
  {
   "cell_type": "code",
   "execution_count": 3,
   "metadata": {},
   "outputs": [
    {
     "name": "stdout",
     "output_type": "stream",
     "text": [
      "Sports in the dataset are Basketball\n",
      "Sports in the dataset are Judo\n",
      "Sports in the dataset are Football\n",
      "Sports in the dataset are Tug-Of-War\n",
      "Sports in the dataset are Speed Skating\n",
      "Sports in the dataset are Cross Country Skiing\n",
      "Sports in the dataset are Athletics\n",
      "Sports in the dataset are Ice Hockey\n",
      "Sports in the dataset are Swimming\n",
      "Sports in the dataset are Badminton\n",
      "Sports in the dataset are Sailing\n",
      "Sports in the dataset are Biathlon\n",
      "Sports in the dataset are Gymnastics\n",
      "Sports in the dataset are Art Competitions\n",
      "Sports in the dataset are Alpine Skiing\n",
      "Sports in the dataset are Handball\n",
      "Sports in the dataset are Weightlifting\n",
      "Sports in the dataset are Wrestling\n",
      "Sports in the dataset are Luge\n",
      "Sports in the dataset are Water Polo\n",
      "Sports in the dataset are Hockey\n",
      "Sports in the dataset are Rowing\n",
      "Sports in the dataset are Bobsleigh\n",
      "Sports in the dataset are Fencing\n",
      "Sports in the dataset are Equestrianism\n",
      "Sports in the dataset are Shooting\n",
      "Sports in the dataset are Boxing\n",
      "Sports in the dataset are Taekwondo\n",
      "Sports in the dataset are Cycling\n",
      "Sports in the dataset are Diving\n",
      "Sports in the dataset are Canoeing\n",
      "Sports in the dataset are Tennis\n",
      "Sports in the dataset are Modern Pentathlon\n",
      "Sports in the dataset are Figure Skating\n",
      "Sports in the dataset are Golf\n",
      "Sports in the dataset are Softball\n",
      "Sports in the dataset are Archery\n",
      "Sports in the dataset are Volleyball\n",
      "Sports in the dataset are Synchronized Swimming\n",
      "Sports in the dataset are Table Tennis\n",
      "Sports in the dataset are Nordic Combined\n",
      "Sports in the dataset are Baseball\n",
      "Sports in the dataset are Rhythmic Gymnastics\n",
      "Sports in the dataset are Freestyle Skiing\n",
      "Sports in the dataset are Rugby Sevens\n",
      "Sports in the dataset are Trampolining\n",
      "Sports in the dataset are Beach Volleyball\n",
      "Sports in the dataset are Triathlon\n",
      "Sports in the dataset are Ski Jumping\n",
      "Sports in the dataset are Curling\n",
      "Sports in the dataset are Snowboarding\n",
      "Sports in the dataset are Rugby\n",
      "Sports in the dataset are Short Track Speed Skating\n",
      "Sports in the dataset are Skeleton\n",
      "Sports in the dataset are Lacrosse\n",
      "Sports in the dataset are Polo\n",
      "Sports in the dataset are Cricket\n",
      "Sports in the dataset are Racquets\n",
      "Sports in the dataset are Motorboating\n",
      "Sports in the dataset are Military Ski Patrol\n",
      "Sports in the dataset are Croquet\n",
      "Sports in the dataset are Jeu De Paume\n",
      "Sports in the dataset are Roque\n",
      "Sports in the dataset are Alpinism\n",
      "Sports in the dataset are Basque Pelota\n",
      "Sports in the dataset are Aeronautics\n"
     ]
    }
   ],
   "source": [
    "sports_in_dataset = athlete_data[\"Sport\"].unique()\n",
    "list_index = 0\n",
    "for _ in sports_in_dataset:\n",
    "    print(f\"Sports in the dataset are {sports_in_dataset[list_index]}\")\n",
    "    list_index += 1"
   ]
  },
  {
   "cell_type": "code",
   "execution_count": 4,
   "metadata": {},
   "outputs": [
    {
     "name": "stdout",
     "output_type": "stream",
     "text": [
      "Types of medal are Gold\n",
      "Types of medal are Bronze\n",
      "Types of medal are Silver\n"
     ]
    }
   ],
   "source": [
    "type_of_medals = athlete_data[\"Medal\"].unique()\n",
    "type_of_medals = type_of_medals.tolist()\n",
    "list_index = 0\n",
    "for _ in type_of_medals:\n",
    "    if list_index == 0:\n",
    "        pass\n",
    "    else:\n",
    "        print(f\"Types of medal are {type_of_medals[list_index]}\")\n",
    "    list_index += 1"
   ]
  },
  {
   "cell_type": "code",
   "execution_count": 5,
   "metadata": {},
   "outputs": [
    {
     "data": {
      "text/plain": [
       "count    261642.000000\n",
       "mean         25.556898\n",
       "std           6.393561\n",
       "min          10.000000\n",
       "25%          21.000000\n",
       "50%          24.000000\n",
       "75%          28.000000\n",
       "max          97.000000\n",
       "Name: Age, dtype: float64"
      ]
     },
     "execution_count": 5,
     "metadata": {},
     "output_type": "execute_result"
    }
   ],
   "source": [
    "athlete_data[\"Age\"].describe()"
   ]
  },
  {
   "cell_type": "markdown",
   "metadata": {},
   "source": [
    "## Youngest and oldest athlete and sport"
   ]
  },
  {
   "cell_type": "code",
   "execution_count": 6,
   "metadata": {},
   "outputs": [
    {
     "name": "stdout",
     "output_type": "stream",
     "text": [
      "The youngest athlete ever was Dimitrios Loundras. He competed in Gymnastics when he was 10.0 in the year: 1896\n",
      "The oldest athlete ever was John Quincy Adams Ward. He competed in Art Competitions when he was 97.0 in the year: 1928\n"
     ]
    }
   ],
   "source": [
    "oldest_athlete_data = athlete_data.sort_values(by=\"Age\", ascending=False).reset_index(drop=True)\n",
    "youngest_athlete_data = athlete_data.sort_values(by=\"Age\", ascending=True).reset_index(drop=True)\n",
    "oldest_athlete = oldest_athlete_data.loc[(oldest_athlete_data[\"Age\"] == 97) , [\"Name\", \"Sport\", \"Age\",\"Year\"]]\n",
    "youngest_athlete = youngest_athlete_data.loc[(youngest_athlete_data[\"Age\"] == 10), [\"Name\", \"Sport\", \"Age\", \"Year\"]]\n",
    "oldest_athlete = oldest_athlete.values[0]\n",
    "oldest_athlete = oldest_athlete.tolist()\n",
    "youngest_athlete = youngest_athlete.values[0]\n",
    "youngest_athlete = youngest_athlete.tolist()\n",
    "\n",
    "print(f\"The youngest athlete ever was {youngest_athlete[0]}. He competed in {youngest_athlete[1]} when he was {youngest_athlete[2]} in the year: {youngest_athlete[3]}\")\n",
    "print(f\"The oldest athlete ever was {oldest_athlete[0]}. He competed in {oldest_athlete[1]} when he was {oldest_athlete[2]} in the year: {oldest_athlete[3]}\")"
   ]
  },
  {
   "cell_type": "markdown",
   "metadata": {},
   "source": [
    "## Oldest sport"
   ]
  },
  {
   "cell_type": "code",
   "execution_count": 7,
   "metadata": {},
   "outputs": [
    {
     "name": "stdout",
     "output_type": "stream",
     "text": [
      "The oldest sports in the olympicts are:\n",
      "Gymnastics\n",
      "Athletics\n",
      "Shooting\n",
      "Tennis\n",
      "Fencing\n",
      "Swimming\n",
      "Cycling\n",
      "Weightlifting\n",
      "Wrestling\n"
     ]
    }
   ],
   "source": [
    "oldest_sport_data = athlete_data.sort_values(by=\"Year\", ascending=True).reset_index(drop=True)\n",
    "oldest_sport_data = oldest_sport_data.loc[(oldest_sport_data[\"Year\"] == 1896), [\"Sport\"]].drop_duplicates().reset_index(drop=True)\n",
    "oldest_sports = oldest_sport_data.values.tolist()\n",
    "oldest_sports = [i for list_item in oldest_sports for i in list_item] ## Coverts nested list to a normal list\n",
    "oldest_sports ## Code insperation taken from https://thispointer.com/python-convert-list-of-lists-or-nested-list-to-flat-list/\n",
    "list_index = 0\n",
    "print(\"The oldest sports in the olympicts are:\")\n",
    "for _ in oldest_sports:\n",
    "    print(oldest_sports[list_index])\n",
    "    list_index += 1\n"
   ]
  },
  {
   "cell_type": "markdown",
   "metadata": {},
   "source": [
    "## Country with the most gold"
   ]
  },
  {
   "cell_type": "code",
   "execution_count": 8,
   "metadata": {},
   "outputs": [
    {
     "name": "stdout",
     "output_type": "stream",
     "text": [
      "The country with the most amount of gold medals is United States with a medal count of 1081\n"
     ]
    }
   ],
   "source": [
    "athlete_data = athlete_data.drop_duplicates(subset=[\"Event\", \"Games\", \"Medal\"])\n",
    "gold_medals = athlete_data.loc[(athlete_data[\"Medal\"] == \"Gold\"), [\"Team\", \"Medal\"]].reset_index(drop=True)\n",
    "highest_medal_count_country = gold_medals[\"Team\"].value_counts().reset_index().rename({\"Team\": \"Medal Count\", \"index\": \"Country\"}, axis=\"columns\")\n",
    "highest_medal_count_country = highest_medal_count_country.values[0]\n",
    "highest_medal_count_country.tolist()\n",
    "print(f\"The country with the most amount of gold medals is {highest_medal_count_country[0]} with a medal count of {highest_medal_count_country[1]}\")"
   ]
  },
  {
   "cell_type": "markdown",
   "metadata": {},
   "source": [
    "## Number of medals"
   ]
  },
  {
   "cell_type": "code",
   "execution_count": 9,
   "metadata": {},
   "outputs": [
    {
     "name": "stdout",
     "output_type": "stream",
     "text": [
      "Russias top sport through the years has been Athletics with a medal count of 267\n"
     ]
    }
   ],
   "source": [
    "russia_data = athlete_data[athlete_data[\"Team\"].isin([\"Russia\", \"Soviet Union\"])].reset_index(drop=True)\n",
    "russia_gold = russia_data[(russia_data[\"Medal\"] == \"Gold\")].reset_index(drop=True)\n",
    "russia_silver = russia_data[(russia_data[\"Medal\"] == \"Silver\")].reset_index(drop=True)\n",
    "russia_bronze = russia_data[(russia_data[\"Medal\"] == \"Bronze\")].reset_index(drop=True)\n",
    "russia_medals = pd.concat([russia_gold, russia_silver, russia_bronze])\n",
    "russia_best_sport = russia_medals[\"Sport\"].value_counts().reset_index().rename({\"Sport\": \"Medal Count\", \"index\": \"Sport\"}, axis=\"columns\")\n",
    "russia_best_sport = russia_best_sport.values[0]\n",
    "russia_best_sport = russia_best_sport.tolist()\n",
    "print(f\"Russias top sport through the years has been {russia_best_sport[0]} with a medal count of {russia_best_sport[1]}\")"
   ]
  },
  {
   "cell_type": "markdown",
   "metadata": {},
   "source": [
    "### Russias best athlete"
   ]
  },
  {
   "cell_type": "code",
   "execution_count": 10,
   "metadata": {},
   "outputs": [
    {
     "name": "stdout",
     "output_type": "stream",
     "text": [
      "Russia's best athlete ever is Nikolay Yefimovich Andrianov with a medal count of 15\n"
     ]
    }
   ],
   "source": [
    "russia_best_athletes = russia_medals[\"Name\"].value_counts().reset_index().rename({\"Name\": \"Medal count\", \"index\": \"Name\"}, axis=\"columns\")\n",
    "russias_best_athlete = russia_best_athletes.values[0]\n",
    "russias_best_athlete = russias_best_athlete.tolist()\n",
    "print(f\"Russia's best athlete ever is {russias_best_athlete[0]} with a medal count of {russias_best_athlete[1]}\")"
   ]
  },
  {
   "cell_type": "code",
   "execution_count": 11,
   "metadata": {},
   "outputs": [
    {
     "data": {
      "text/html": [
       "<div>\n",
       "<style scoped>\n",
       "    .dataframe tbody tr th:only-of-type {\n",
       "        vertical-align: middle;\n",
       "    }\n",
       "\n",
       "    .dataframe tbody tr th {\n",
       "        vertical-align: top;\n",
       "    }\n",
       "\n",
       "    .dataframe thead th {\n",
       "        text-align: right;\n",
       "    }\n",
       "</style>\n",
       "<table border=\"1\" class=\"dataframe\">\n",
       "  <thead>\n",
       "    <tr style=\"text-align: right;\">\n",
       "      <th></th>\n",
       "      <th>ID</th>\n",
       "      <th>Hashed names</th>\n",
       "      <th>Sex</th>\n",
       "      <th>Age</th>\n",
       "      <th>Height</th>\n",
       "      <th>Weight</th>\n",
       "      <th>Team</th>\n",
       "      <th>NOC</th>\n",
       "      <th>Games</th>\n",
       "      <th>Year</th>\n",
       "      <th>Season</th>\n",
       "      <th>City</th>\n",
       "      <th>Sport</th>\n",
       "      <th>Event</th>\n",
       "      <th>Medal</th>\n",
       "    </tr>\n",
       "  </thead>\n",
       "  <tbody>\n",
       "    <tr>\n",
       "      <th>0</th>\n",
       "      <td>1</td>\n",
       "      <td>3a4eef48434c66b3f14ab0221f6762d0ef7c6135ab2790...</td>\n",
       "      <td>M</td>\n",
       "      <td>24.0</td>\n",
       "      <td>180.0</td>\n",
       "      <td>80.0</td>\n",
       "      <td>China</td>\n",
       "      <td>CHN</td>\n",
       "      <td>1992 Summer</td>\n",
       "      <td>1992</td>\n",
       "      <td>Summer</td>\n",
       "      <td>Barcelona</td>\n",
       "      <td>Basketball</td>\n",
       "      <td>Basketball Men's Basketball</td>\n",
       "      <td>NaN</td>\n",
       "    </tr>\n",
       "    <tr>\n",
       "      <th>1</th>\n",
       "      <td>2</td>\n",
       "      <td>a6430cc6630934275dc6283f7e97e9625e6587cdddec7a...</td>\n",
       "      <td>M</td>\n",
       "      <td>23.0</td>\n",
       "      <td>170.0</td>\n",
       "      <td>60.0</td>\n",
       "      <td>China</td>\n",
       "      <td>CHN</td>\n",
       "      <td>2012 Summer</td>\n",
       "      <td>2012</td>\n",
       "      <td>Summer</td>\n",
       "      <td>London</td>\n",
       "      <td>Judo</td>\n",
       "      <td>Judo Men's Extra-Lightweight</td>\n",
       "      <td>NaN</td>\n",
       "    </tr>\n",
       "    <tr>\n",
       "      <th>2</th>\n",
       "      <td>3</td>\n",
       "      <td>9c198b205332c2c8e1542e0f9534b9e270780a41d978ec...</td>\n",
       "      <td>M</td>\n",
       "      <td>24.0</td>\n",
       "      <td>NaN</td>\n",
       "      <td>NaN</td>\n",
       "      <td>Denmark</td>\n",
       "      <td>DEN</td>\n",
       "      <td>1920 Summer</td>\n",
       "      <td>1920</td>\n",
       "      <td>Summer</td>\n",
       "      <td>Antwerpen</td>\n",
       "      <td>Football</td>\n",
       "      <td>Football Men's Football</td>\n",
       "      <td>NaN</td>\n",
       "    </tr>\n",
       "    <tr>\n",
       "      <th>3</th>\n",
       "      <td>4</td>\n",
       "      <td>0a477bb1c5ad39716f9c775e54d18d16aa8b37ada55548...</td>\n",
       "      <td>M</td>\n",
       "      <td>34.0</td>\n",
       "      <td>NaN</td>\n",
       "      <td>NaN</td>\n",
       "      <td>Denmark/Sweden</td>\n",
       "      <td>DEN</td>\n",
       "      <td>1900 Summer</td>\n",
       "      <td>1900</td>\n",
       "      <td>Summer</td>\n",
       "      <td>Paris</td>\n",
       "      <td>Tug-Of-War</td>\n",
       "      <td>Tug-Of-War Men's Tug-Of-War</td>\n",
       "      <td>Gold</td>\n",
       "    </tr>\n",
       "    <tr>\n",
       "      <th>4</th>\n",
       "      <td>5</td>\n",
       "      <td>5b7be356aa28178096dc6747f0b8e4e393eaceb5f95310...</td>\n",
       "      <td>F</td>\n",
       "      <td>21.0</td>\n",
       "      <td>185.0</td>\n",
       "      <td>82.0</td>\n",
       "      <td>Netherlands</td>\n",
       "      <td>NED</td>\n",
       "      <td>1988 Winter</td>\n",
       "      <td>1988</td>\n",
       "      <td>Winter</td>\n",
       "      <td>Calgary</td>\n",
       "      <td>Speed Skating</td>\n",
       "      <td>Speed Skating Women's 500 metres</td>\n",
       "      <td>NaN</td>\n",
       "    </tr>\n",
       "    <tr>\n",
       "      <th>...</th>\n",
       "      <td>...</td>\n",
       "      <td>...</td>\n",
       "      <td>...</td>\n",
       "      <td>...</td>\n",
       "      <td>...</td>\n",
       "      <td>...</td>\n",
       "      <td>...</td>\n",
       "      <td>...</td>\n",
       "      <td>...</td>\n",
       "      <td>...</td>\n",
       "      <td>...</td>\n",
       "      <td>...</td>\n",
       "      <td>...</td>\n",
       "      <td>...</td>\n",
       "      <td>...</td>\n",
       "    </tr>\n",
       "    <tr>\n",
       "      <th>271111</th>\n",
       "      <td>135569</td>\n",
       "      <td>07f491e055f56a7a7be133c9cf6563c253d3aa0d137630...</td>\n",
       "      <td>M</td>\n",
       "      <td>29.0</td>\n",
       "      <td>179.0</td>\n",
       "      <td>89.0</td>\n",
       "      <td>Poland-1</td>\n",
       "      <td>POL</td>\n",
       "      <td>1976 Winter</td>\n",
       "      <td>1976</td>\n",
       "      <td>Winter</td>\n",
       "      <td>Innsbruck</td>\n",
       "      <td>Luge</td>\n",
       "      <td>Luge Mixed (Men)'s Doubles</td>\n",
       "      <td>NaN</td>\n",
       "    </tr>\n",
       "    <tr>\n",
       "      <th>271112</th>\n",
       "      <td>135570</td>\n",
       "      <td>2f748d07ca91a5a1a6871b8f05cdd4d69f194615a82ca5...</td>\n",
       "      <td>M</td>\n",
       "      <td>27.0</td>\n",
       "      <td>176.0</td>\n",
       "      <td>59.0</td>\n",
       "      <td>Poland</td>\n",
       "      <td>POL</td>\n",
       "      <td>2014 Winter</td>\n",
       "      <td>2014</td>\n",
       "      <td>Winter</td>\n",
       "      <td>Sochi</td>\n",
       "      <td>Ski Jumping</td>\n",
       "      <td>Ski Jumping Men's Large Hill, Individual</td>\n",
       "      <td>NaN</td>\n",
       "    </tr>\n",
       "    <tr>\n",
       "      <th>271113</th>\n",
       "      <td>135570</td>\n",
       "      <td>2f748d07ca91a5a1a6871b8f05cdd4d69f194615a82ca5...</td>\n",
       "      <td>M</td>\n",
       "      <td>27.0</td>\n",
       "      <td>176.0</td>\n",
       "      <td>59.0</td>\n",
       "      <td>Poland</td>\n",
       "      <td>POL</td>\n",
       "      <td>2014 Winter</td>\n",
       "      <td>2014</td>\n",
       "      <td>Winter</td>\n",
       "      <td>Sochi</td>\n",
       "      <td>Ski Jumping</td>\n",
       "      <td>Ski Jumping Men's Large Hill, Team</td>\n",
       "      <td>NaN</td>\n",
       "    </tr>\n",
       "    <tr>\n",
       "      <th>271114</th>\n",
       "      <td>135571</td>\n",
       "      <td>e7fd567d163933f9b76a0094f18afbf8e8291b179c5487...</td>\n",
       "      <td>M</td>\n",
       "      <td>30.0</td>\n",
       "      <td>185.0</td>\n",
       "      <td>96.0</td>\n",
       "      <td>Poland</td>\n",
       "      <td>POL</td>\n",
       "      <td>1998 Winter</td>\n",
       "      <td>1998</td>\n",
       "      <td>Winter</td>\n",
       "      <td>Nagano</td>\n",
       "      <td>Bobsleigh</td>\n",
       "      <td>Bobsleigh Men's Four</td>\n",
       "      <td>NaN</td>\n",
       "    </tr>\n",
       "    <tr>\n",
       "      <th>271115</th>\n",
       "      <td>135571</td>\n",
       "      <td>e7fd567d163933f9b76a0094f18afbf8e8291b179c5487...</td>\n",
       "      <td>M</td>\n",
       "      <td>34.0</td>\n",
       "      <td>185.0</td>\n",
       "      <td>96.0</td>\n",
       "      <td>Poland</td>\n",
       "      <td>POL</td>\n",
       "      <td>2002 Winter</td>\n",
       "      <td>2002</td>\n",
       "      <td>Winter</td>\n",
       "      <td>Salt Lake City</td>\n",
       "      <td>Bobsleigh</td>\n",
       "      <td>Bobsleigh Men's Four</td>\n",
       "      <td>NaN</td>\n",
       "    </tr>\n",
       "  </tbody>\n",
       "</table>\n",
       "<p>271116 rows × 15 columns</p>\n",
       "</div>"
      ],
      "text/plain": [
       "            ID                                       Hashed names Sex   Age  \\\n",
       "0            1  3a4eef48434c66b3f14ab0221f6762d0ef7c6135ab2790...   M  24.0   \n",
       "1            2  a6430cc6630934275dc6283f7e97e9625e6587cdddec7a...   M  23.0   \n",
       "2            3  9c198b205332c2c8e1542e0f9534b9e270780a41d978ec...   M  24.0   \n",
       "3            4  0a477bb1c5ad39716f9c775e54d18d16aa8b37ada55548...   M  34.0   \n",
       "4            5  5b7be356aa28178096dc6747f0b8e4e393eaceb5f95310...   F  21.0   \n",
       "...        ...                                                ...  ..   ...   \n",
       "271111  135569  07f491e055f56a7a7be133c9cf6563c253d3aa0d137630...   M  29.0   \n",
       "271112  135570  2f748d07ca91a5a1a6871b8f05cdd4d69f194615a82ca5...   M  27.0   \n",
       "271113  135570  2f748d07ca91a5a1a6871b8f05cdd4d69f194615a82ca5...   M  27.0   \n",
       "271114  135571  e7fd567d163933f9b76a0094f18afbf8e8291b179c5487...   M  30.0   \n",
       "271115  135571  e7fd567d163933f9b76a0094f18afbf8e8291b179c5487...   M  34.0   \n",
       "\n",
       "        Height  Weight            Team  NOC        Games  Year  Season  \\\n",
       "0        180.0    80.0           China  CHN  1992 Summer  1992  Summer   \n",
       "1        170.0    60.0           China  CHN  2012 Summer  2012  Summer   \n",
       "2          NaN     NaN         Denmark  DEN  1920 Summer  1920  Summer   \n",
       "3          NaN     NaN  Denmark/Sweden  DEN  1900 Summer  1900  Summer   \n",
       "4        185.0    82.0     Netherlands  NED  1988 Winter  1988  Winter   \n",
       "...        ...     ...             ...  ...          ...   ...     ...   \n",
       "271111   179.0    89.0        Poland-1  POL  1976 Winter  1976  Winter   \n",
       "271112   176.0    59.0          Poland  POL  2014 Winter  2014  Winter   \n",
       "271113   176.0    59.0          Poland  POL  2014 Winter  2014  Winter   \n",
       "271114   185.0    96.0          Poland  POL  1998 Winter  1998  Winter   \n",
       "271115   185.0    96.0          Poland  POL  2002 Winter  2002  Winter   \n",
       "\n",
       "                  City          Sport  \\\n",
       "0            Barcelona     Basketball   \n",
       "1               London           Judo   \n",
       "2            Antwerpen       Football   \n",
       "3                Paris     Tug-Of-War   \n",
       "4              Calgary  Speed Skating   \n",
       "...                ...            ...   \n",
       "271111       Innsbruck           Luge   \n",
       "271112           Sochi    Ski Jumping   \n",
       "271113           Sochi    Ski Jumping   \n",
       "271114          Nagano      Bobsleigh   \n",
       "271115  Salt Lake City      Bobsleigh   \n",
       "\n",
       "                                           Event Medal  \n",
       "0                    Basketball Men's Basketball   NaN  \n",
       "1                   Judo Men's Extra-Lightweight   NaN  \n",
       "2                        Football Men's Football   NaN  \n",
       "3                    Tug-Of-War Men's Tug-Of-War  Gold  \n",
       "4               Speed Skating Women's 500 metres   NaN  \n",
       "...                                          ...   ...  \n",
       "271111                Luge Mixed (Men)'s Doubles   NaN  \n",
       "271112  Ski Jumping Men's Large Hill, Individual   NaN  \n",
       "271113        Ski Jumping Men's Large Hill, Team   NaN  \n",
       "271114                      Bobsleigh Men's Four   NaN  \n",
       "271115                      Bobsleigh Men's Four   NaN  \n",
       "\n",
       "[271116 rows x 15 columns]"
      ]
     },
     "execution_count": 11,
     "metadata": {},
     "output_type": "execute_result"
    }
   ],
   "source": [
    "import hashlib as hl\n",
    "import pandas as pd\n",
    "\n",
    "athlete_data = pd.read_csv(athlete_path)\n",
    "hashed_names = athlete_data[\"Name\"].apply(lambda x: hl.sha256(x.encode()).hexdigest())\n",
    "athlete_data.insert(1, \"Hashed names\", hashed_names)\n",
    "athlete_data.drop(\"Name\", axis=\"columns\")"
   ]
  },
  {
   "cell_type": "markdown",
   "metadata": {},
   "source": [
    "## Plots"
   ]
  },
  {
   "cell_type": "markdown",
   "metadata": {},
   "source": [
    "### Procent amount of medels per year\n",
    "- Line plot\n",
    "- Summer = Red\n",
    "- Winter = blue"
   ]
  },
  {
   "cell_type": "code",
   "execution_count": 12,
   "metadata": {},
   "outputs": [],
   "source": [
    "import plotly_express as px"
   ]
  },
  {
   "cell_type": "code",
   "execution_count": 13,
   "metadata": {},
   "outputs": [
    {
     "ename": "ValueError",
     "evalue": "All arguments should have the same length. The length of argument `y` is 2, whereas the length of  previously-processed arguments ['Year'] is 32",
     "output_type": "error",
     "traceback": [
      "\u001b[1;31m---------------------------------------------------------------------------\u001b[0m",
      "\u001b[1;31mValueError\u001b[0m                                Traceback (most recent call last)",
      "\u001b[1;32mC:\\Users\\FABIAN~1\\AppData\\Local\\Temp/ipykernel_2640/2234235062.py\u001b[0m in \u001b[0;36m<module>\u001b[1;34m\u001b[0m\n\u001b[0;32m     43\u001b[0m \u001b[1;33m\u001b[0m\u001b[0m\n\u001b[0;32m     44\u001b[0m \u001b[1;33m\u001b[0m\u001b[0m\n\u001b[1;32m---> 45\u001b[1;33m \u001b[0mfig\u001b[0m \u001b[1;33m=\u001b[0m \u001b[0mpx\u001b[0m\u001b[1;33m.\u001b[0m\u001b[0mbar\u001b[0m\u001b[1;33m(\u001b[0m\u001b[0mtotal_russia_medals\u001b[0m\u001b[1;33m,\u001b[0m \u001b[0mx\u001b[0m\u001b[1;33m=\u001b[0m\u001b[1;34m\"Year\"\u001b[0m\u001b[1;33m,\u001b[0m \u001b[0my\u001b[0m\u001b[1;33m=\u001b[0m\u001b[1;33m[\u001b[0m\u001b[1;34m\"Winter Procent of medals\"\u001b[0m\u001b[1;33m,\u001b[0m \u001b[1;34m\"Summer Procent of medals\"\u001b[0m\u001b[1;33m]\u001b[0m\u001b[1;33m)\u001b[0m\u001b[1;33m\u001b[0m\u001b[1;33m\u001b[0m\u001b[0m\n\u001b[0m\u001b[0;32m     46\u001b[0m \u001b[0mfig\u001b[0m\u001b[1;33m.\u001b[0m\u001b[0mupdate_layout\u001b[0m\u001b[1;33m(\u001b[0m\u001b[0mbarmode\u001b[0m\u001b[1;33m=\u001b[0m\u001b[1;34m\"group\"\u001b[0m\u001b[1;33m)\u001b[0m\u001b[1;33m\u001b[0m\u001b[1;33m\u001b[0m\u001b[0m\n\u001b[0;32m     47\u001b[0m \u001b[0mfig\u001b[0m\u001b[1;33m.\u001b[0m\u001b[0mshow\u001b[0m\u001b[1;33m(\u001b[0m\u001b[1;33m)\u001b[0m\u001b[1;33m\u001b[0m\u001b[1;33m\u001b[0m\u001b[0m\n",
      "\u001b[1;32m~\\.virtualenvs\\Databehandling-Fabian-Andersson-IEdN34wO\\lib\\site-packages\\plotly\\express\\_chart_types.py\u001b[0m in \u001b[0;36mbar\u001b[1;34m(data_frame, x, y, color, pattern_shape, facet_row, facet_col, facet_col_wrap, facet_row_spacing, facet_col_spacing, hover_name, hover_data, custom_data, text, base, error_x, error_x_minus, error_y, error_y_minus, animation_frame, animation_group, category_orders, labels, color_discrete_sequence, color_discrete_map, color_continuous_scale, pattern_shape_sequence, pattern_shape_map, range_color, color_continuous_midpoint, opacity, orientation, barmode, log_x, log_y, range_x, range_y, title, template, width, height)\u001b[0m\n\u001b[0;32m    363\u001b[0m     \u001b[0mmark\u001b[0m\u001b[1;33m.\u001b[0m\u001b[1;33m\u001b[0m\u001b[1;33m\u001b[0m\u001b[0m\n\u001b[0;32m    364\u001b[0m     \"\"\"\n\u001b[1;32m--> 365\u001b[1;33m     return make_figure(\n\u001b[0m\u001b[0;32m    366\u001b[0m         \u001b[0margs\u001b[0m\u001b[1;33m=\u001b[0m\u001b[0mlocals\u001b[0m\u001b[1;33m(\u001b[0m\u001b[1;33m)\u001b[0m\u001b[1;33m,\u001b[0m\u001b[1;33m\u001b[0m\u001b[1;33m\u001b[0m\u001b[0m\n\u001b[0;32m    367\u001b[0m         \u001b[0mconstructor\u001b[0m\u001b[1;33m=\u001b[0m\u001b[0mgo\u001b[0m\u001b[1;33m.\u001b[0m\u001b[0mBar\u001b[0m\u001b[1;33m,\u001b[0m\u001b[1;33m\u001b[0m\u001b[1;33m\u001b[0m\u001b[0m\n",
      "\u001b[1;32m~\\.virtualenvs\\Databehandling-Fabian-Andersson-IEdN34wO\\lib\\site-packages\\plotly\\express\\_core.py\u001b[0m in \u001b[0;36mmake_figure\u001b[1;34m(args, constructor, trace_patch, layout_patch)\u001b[0m\n\u001b[0;32m   1931\u001b[0m     \u001b[0mapply_default_cascade\u001b[0m\u001b[1;33m(\u001b[0m\u001b[0margs\u001b[0m\u001b[1;33m)\u001b[0m\u001b[1;33m\u001b[0m\u001b[1;33m\u001b[0m\u001b[0m\n\u001b[0;32m   1932\u001b[0m \u001b[1;33m\u001b[0m\u001b[0m\n\u001b[1;32m-> 1933\u001b[1;33m     \u001b[0margs\u001b[0m \u001b[1;33m=\u001b[0m \u001b[0mbuild_dataframe\u001b[0m\u001b[1;33m(\u001b[0m\u001b[0margs\u001b[0m\u001b[1;33m,\u001b[0m \u001b[0mconstructor\u001b[0m\u001b[1;33m)\u001b[0m\u001b[1;33m\u001b[0m\u001b[1;33m\u001b[0m\u001b[0m\n\u001b[0m\u001b[0;32m   1934\u001b[0m     \u001b[1;32mif\u001b[0m \u001b[0mconstructor\u001b[0m \u001b[1;32min\u001b[0m \u001b[1;33m[\u001b[0m\u001b[0mgo\u001b[0m\u001b[1;33m.\u001b[0m\u001b[0mTreemap\u001b[0m\u001b[1;33m,\u001b[0m \u001b[0mgo\u001b[0m\u001b[1;33m.\u001b[0m\u001b[0mSunburst\u001b[0m\u001b[1;33m,\u001b[0m \u001b[0mgo\u001b[0m\u001b[1;33m.\u001b[0m\u001b[0mIcicle\u001b[0m\u001b[1;33m]\u001b[0m \u001b[1;32mand\u001b[0m \u001b[0margs\u001b[0m\u001b[1;33m[\u001b[0m\u001b[1;34m\"path\"\u001b[0m\u001b[1;33m]\u001b[0m \u001b[1;32mis\u001b[0m \u001b[1;32mnot\u001b[0m \u001b[1;32mNone\u001b[0m\u001b[1;33m:\u001b[0m\u001b[1;33m\u001b[0m\u001b[1;33m\u001b[0m\u001b[0m\n\u001b[0;32m   1935\u001b[0m         \u001b[0margs\u001b[0m \u001b[1;33m=\u001b[0m \u001b[0mprocess_dataframe_hierarchy\u001b[0m\u001b[1;33m(\u001b[0m\u001b[0margs\u001b[0m\u001b[1;33m)\u001b[0m\u001b[1;33m\u001b[0m\u001b[1;33m\u001b[0m\u001b[0m\n",
      "\u001b[1;32m~\\.virtualenvs\\Databehandling-Fabian-Andersson-IEdN34wO\\lib\\site-packages\\plotly\\express\\_core.py\u001b[0m in \u001b[0;36mbuild_dataframe\u001b[1;34m(args, constructor)\u001b[0m\n\u001b[0;32m   1403\u001b[0m     \u001b[1;31m# now that things have been prepped, we do the systematic rewriting of `args`\u001b[0m\u001b[1;33m\u001b[0m\u001b[1;33m\u001b[0m\u001b[1;33m\u001b[0m\u001b[0m\n\u001b[0;32m   1404\u001b[0m \u001b[1;33m\u001b[0m\u001b[0m\n\u001b[1;32m-> 1405\u001b[1;33m     df_output, wide_id_vars = process_args_into_dataframe(\n\u001b[0m\u001b[0;32m   1406\u001b[0m         \u001b[0margs\u001b[0m\u001b[1;33m,\u001b[0m \u001b[0mwide_mode\u001b[0m\u001b[1;33m,\u001b[0m \u001b[0mvar_name\u001b[0m\u001b[1;33m,\u001b[0m \u001b[0mvalue_name\u001b[0m\u001b[1;33m\u001b[0m\u001b[1;33m\u001b[0m\u001b[0m\n\u001b[0;32m   1407\u001b[0m     )\n",
      "\u001b[1;32m~\\.virtualenvs\\Databehandling-Fabian-Andersson-IEdN34wO\\lib\\site-packages\\plotly\\express\\_core.py\u001b[0m in \u001b[0;36mprocess_args_into_dataframe\u001b[1;34m(args, wide_mode, var_name, value_name)\u001b[0m\n\u001b[0;32m   1243\u001b[0m \u001b[1;33m\u001b[0m\u001b[0m\n\u001b[0;32m   1244\u001b[0m                 \u001b[1;32mif\u001b[0m \u001b[0mlength\u001b[0m \u001b[1;32mand\u001b[0m \u001b[0mlen\u001b[0m\u001b[1;33m(\u001b[0m\u001b[0margument\u001b[0m\u001b[1;33m)\u001b[0m \u001b[1;33m!=\u001b[0m \u001b[0mlength\u001b[0m\u001b[1;33m:\u001b[0m\u001b[1;33m\u001b[0m\u001b[1;33m\u001b[0m\u001b[0m\n\u001b[1;32m-> 1245\u001b[1;33m                     raise ValueError(\n\u001b[0m\u001b[0;32m   1246\u001b[0m                         \u001b[1;34m\"All arguments should have the same length. \"\u001b[0m\u001b[1;33m\u001b[0m\u001b[1;33m\u001b[0m\u001b[0m\n\u001b[0;32m   1247\u001b[0m                         \u001b[1;34m\"The length of argument `%s` is %d, whereas the \"\u001b[0m\u001b[1;33m\u001b[0m\u001b[1;33m\u001b[0m\u001b[0m\n",
      "\u001b[1;31mValueError\u001b[0m: All arguments should have the same length. The length of argument `y` is 2, whereas the length of  previously-processed arguments ['Year'] is 32"
     ]
    }
   ],
   "source": [
    "athlete_data = athlete_data.drop_duplicates(subset=[\"Event\", \"Games\", \"Medal\"])\n",
    "\n",
    "russia_data = athlete_data[athlete_data[\"Team\"].isin([\"Russia\", \"Soviet Union\"])].reset_index(drop=True) ## Takes out russia and soviet union\n",
    "russia_winter_data = russia_data[russia_data[\"Season\"].isin([\"Winter\"])].reset_index(drop=True) ## Takes out all rows where season == winter for russia and sovier union\n",
    "russia_winter_gold = russia_winter_data[(russia_winter_data[\"Medal\"] == \"Gold\")].reset_index(drop=True) ## Sorts the data into gold, silver and bronze\n",
    "russia_winter_silver = russia_winter_data[(russia_winter_data[\"Medal\"] == \"Silver\")].reset_index(drop=True)\n",
    "russia_winter_bronze = russia_winter_data[(russia_winter_data[\"Medal\"] == \"Bronze\")].reset_index(drop=True)\n",
    "russia_winter_data = pd.concat([russia_winter_gold, russia_winter_silver, russia_winter_bronze]) ## Creats a new dataframe form gold, silver and bronze\n",
    "russia_winter_medals = russia_winter_data[\"Year\"].value_counts().reset_index().rename({\"Year\": \"Medal count\", \"index\": \"Year\"}, axis=\"columns\") ## Counts the medals per year\n",
    "russia_winter_medals = russia_winter_medals.sort_values(by=\"Year\", ascending=True).reset_index(drop=True) ## Sorts the dataframe\n",
    "russia_winter_medals[\"Season\"] = \"Winter\" ## Adds Coloumn with the name season and values Winter\n",
    "\n",
    "russia_summer_data = russia_data[russia_data[\"Season\"].isin([\"Summer\"])].reset_index(drop=True) ## Takes out the rows with summer\n",
    "russia_summer_gold = russia_summer_data[(russia_summer_data[\"Medal\"] == \"Gold\")].reset_index(drop=True) ## Takes out the rows with gold, silver and bronze\n",
    "russia_summer_silver = russia_summer_data[(russia_summer_data[\"Medal\"] == \"Silver\")].reset_index(drop=True)\n",
    "russia_summer_bronze = russia_summer_data[(russia_summer_data[\"Medal\"] == \"Bronze\")].reset_index(drop=True)\n",
    "russia_summer_data = pd.concat([russia_summer_gold, russia_summer_silver, russia_summer_bronze]) ## Creats a new data frame form gold, silver and bronze\n",
    "russia_summer_medals = russia_summer_data[\"Year\"].value_counts().reset_index().rename({\"Year\": \"Medal count\", \"index\": \"Year\"}, axis=\"columns\") ##Couns the numer of total medals per year\n",
    "russia_summer_medals = russia_summer_medals.sort_values(by=\"Year\", ascending=True).reset_index(drop=True) ## Sorts the dataframe\n",
    "russia_summer_medals[\"Season\"] = \"Summer\" ## Adds coloumn named seasons and values Summer\n",
    "\n",
    "winter_medals = athlete_data[athlete_data[\"Season\"].isin([\"Winter\"])].reset_index(drop=True) ## Takes out all the years there was a winter games for all countries\n",
    "winter_gold = winter_medals[(winter_medals[\"Medal\"] == \"Gold\")].reset_index(drop=True) ## Takes out all rows with gold, silver and bronze\n",
    "winter_silver = winter_medals[(winter_medals[\"Medal\"] == \"Silver\")].reset_index(drop=True)\n",
    "winter_bronze = winter_medals[(winter_medals[\"Medal\"] == \"Bronze\")].reset_index(drop=True)\n",
    "all_the_medals = pd.concat([winter_gold, winter_silver, winter_bronze]) ## Creats a new dataframe\n",
    "winter_medals = all_the_medals[\"Year\"].value_counts().reset_index().rename({\"Year\": \"World medal count\", \"index\": \"Year\"}, axis=\"columns\") ## Calulates the number of medals per year in all the winter games\n",
    "winter_medals = winter_medals.sort_values(by=\"Year\", ascending=True)\n",
    "\n",
    "summer_medals = athlete_data[athlete_data[\"Season\"].isin([\"Summer\"])].reset_index(drop=True) ## Takes out all the years there was a summer games\n",
    "summer_gold = summer_medals[(summer_medals[\"Medal\"] == \"Gold\")].reset_index(drop=True) ## Takes out the rows with gold, silver and bronze\n",
    "summer_silver = summer_medals[(summer_medals[\"Medal\"] == \"Silver\")].reset_index(drop=True)\n",
    "summer_bronze = summer_medals[(summer_medals[\"Medal\"] == \"Bronze\")].reset_index(drop=True)\n",
    "all_the_medals = pd.concat([summer_gold, summer_silver, summer_bronze]) ## Creats a new dataframe\n",
    "summer_medals = all_the_medals[\"Year\"].value_counts().reset_index().rename({\"Year\": \"World medal count\", \"index\": \"Year\"}, axis=\"columns\") ## Calulates the number of medals per year in all the summer games\n",
    "summer_medals = summer_medals.sort_values(by=\"Year\", ascending=True).reset_index(drop=True)\n",
    "\n",
    "russia_winter_medals[\"Winter percent of medals\"] = russia_winter_medals[\"Medal count\"]/winter_medals[\"World medal count\"] ## Calculates the percent of the medals that russia took for all winter games\n",
    "russia_summer_medals[\"Summer percent of medals\"] = russia_summer_medals[\"Medal count\"]/summer_medals[\"World medal count\"] ## Calculates the percent of the medals that russia took for all summer games\n",
    "total_russia_medals = pd.concat([russia_winter_medals, russia_summer_medals]).reset_index(drop=True)\n",
    "total_russia_medals = total_russia_medals.sort_values(by=\"Year\", ascending=True).reset_index(drop=True)\n",
    "total_russia_medals\n",
    "\n",
    "\n",
    "fig = px.bar(total_russia_medals, x=\"Year\", y=[\"Winter Procent of medals\", \"Summer Procent of medals\"])\n",
    "fig.update_layout(barmode=\"group\")\n",
    "fig.show()"
   ]
  },
  {
   "cell_type": "code",
   "execution_count": null,
   "metadata": {},
   "outputs": [
    {
     "data": {
      "application/vnd.plotly.v1+json": {
       "config": {
        "plotlyServerURL": "https://plot.ly"
       },
       "data": [
        {
         "alignmentgroup": "True",
         "hovertemplate": "variable=Male count<br>Sport=%{x}<br>value=%{y}<extra></extra>",
         "legendgroup": "Male count",
         "marker": {
          "color": "#636efa",
          "pattern": {
           "shape": ""
          }
         },
         "name": "Male count",
         "offsetgroup": "Male count",
         "orientation": "v",
         "showlegend": true,
         "textposition": "auto",
         "type": "bar",
         "x": [
          "Wrestling",
          "Athletics",
          "Gymnastics",
          "Weightlifting",
          "Shooting",
          "Swimming",
          "Boxing",
          "Fencing",
          "Canoeing",
          "Cross Country Skiing",
          "Speed Skating",
          "Rowing",
          "Cycling",
          "Biathlon",
          "Judo",
          "Diving",
          "Equestrianism",
          "Ice Hockey",
          "Sailing",
          "Figure Skating",
          "Basketball",
          "Volleyball",
          "Water Polo",
          "Archery",
          "Luge",
          "Handball",
          "Short Track Speed Skating",
          "Freestyle Skiing",
          "Trampolining",
          "Skeleton",
          "Snowboarding",
          "Taekwondo",
          "Tennis",
          "Hockey",
          "Badminton",
          "Alpine Skiing",
          "Bobsleigh",
          "Synchronized Swimming",
          "Triathlon",
          "Rhythmic Gymnastics"
         ],
         "xaxis": "x",
         "y": [
          173,
          145,
          118,
          80,
          70,
          69,
          61,
          60,
          53,
          51,
          39,
          34,
          31,
          30,
          24,
          17,
          15,
          13,
          12,
          12,
          10,
          10,
          9,
          6,
          6,
          5,
          5,
          3,
          3,
          3,
          3,
          2,
          2,
          1,
          1,
          1,
          0,
          0,
          0,
          0
         ],
         "yaxis": "y"
        },
        {
         "alignmentgroup": "True",
         "hovertemplate": "variable=Female count<br>Sport=%{x}<br>value=%{y}<extra></extra>",
         "legendgroup": "Female count",
         "marker": {
          "color": "#EF553B",
          "pattern": {
           "shape": ""
          }
         },
         "name": "Female count",
         "offsetgroup": "Female count",
         "orientation": "v",
         "showlegend": true,
         "textposition": "auto",
         "type": "bar",
         "x": [
          "Wrestling",
          "Athletics",
          "Gymnastics",
          "Weightlifting",
          "Shooting",
          "Swimming",
          "Boxing",
          "Fencing",
          "Canoeing",
          "Cross Country Skiing",
          "Speed Skating",
          "Rowing",
          "Cycling",
          "Biathlon",
          "Judo",
          "Diving",
          "Equestrianism",
          "Ice Hockey",
          "Sailing",
          "Figure Skating",
          "Basketball",
          "Volleyball",
          "Water Polo",
          "Archery",
          "Luge",
          "Handball",
          "Short Track Speed Skating",
          "Freestyle Skiing",
          "Trampolining",
          "Skeleton",
          "Snowboarding",
          "Taekwondo",
          "Tennis",
          "Hockey",
          "Badminton",
          "Alpine Skiing",
          "Bobsleigh",
          "Synchronized Swimming",
          "Triathlon",
          "Rhythmic Gymnastics"
         ],
         "xaxis": "x",
         "y": [
          6,
          154,
          110,
          10,
          19,
          39,
          3,
          23,
          14,
          62,
          39,
          13,
          19,
          16,
          3,
          20,
          2,
          2,
          3,
          5,
          6,
          9,
          2,
          6,
          3,
          5,
          5,
          1,
          2,
          1,
          2,
          3,
          5,
          1,
          1,
          9,
          1,
          10,
          4,
          18
         ],
         "yaxis": "y"
        }
       ],
       "layout": {
        "barmode": "group",
        "legend": {
         "title": {
          "text": "variable"
         },
         "tracegroupgap": 0
        },
        "margin": {
         "t": 60
        },
        "template": {
         "data": {
          "bar": [
           {
            "error_x": {
             "color": "#2a3f5f"
            },
            "error_y": {
             "color": "#2a3f5f"
            },
            "marker": {
             "line": {
              "color": "#E5ECF6",
              "width": 0.5
             },
             "pattern": {
              "fillmode": "overlay",
              "size": 10,
              "solidity": 0.2
             }
            },
            "type": "bar"
           }
          ],
          "barpolar": [
           {
            "marker": {
             "line": {
              "color": "#E5ECF6",
              "width": 0.5
             },
             "pattern": {
              "fillmode": "overlay",
              "size": 10,
              "solidity": 0.2
             }
            },
            "type": "barpolar"
           }
          ],
          "carpet": [
           {
            "aaxis": {
             "endlinecolor": "#2a3f5f",
             "gridcolor": "white",
             "linecolor": "white",
             "minorgridcolor": "white",
             "startlinecolor": "#2a3f5f"
            },
            "baxis": {
             "endlinecolor": "#2a3f5f",
             "gridcolor": "white",
             "linecolor": "white",
             "minorgridcolor": "white",
             "startlinecolor": "#2a3f5f"
            },
            "type": "carpet"
           }
          ],
          "choropleth": [
           {
            "colorbar": {
             "outlinewidth": 0,
             "ticks": ""
            },
            "type": "choropleth"
           }
          ],
          "contour": [
           {
            "colorbar": {
             "outlinewidth": 0,
             "ticks": ""
            },
            "colorscale": [
             [
              0,
              "#0d0887"
             ],
             [
              0.1111111111111111,
              "#46039f"
             ],
             [
              0.2222222222222222,
              "#7201a8"
             ],
             [
              0.3333333333333333,
              "#9c179e"
             ],
             [
              0.4444444444444444,
              "#bd3786"
             ],
             [
              0.5555555555555556,
              "#d8576b"
             ],
             [
              0.6666666666666666,
              "#ed7953"
             ],
             [
              0.7777777777777778,
              "#fb9f3a"
             ],
             [
              0.8888888888888888,
              "#fdca26"
             ],
             [
              1,
              "#f0f921"
             ]
            ],
            "type": "contour"
           }
          ],
          "contourcarpet": [
           {
            "colorbar": {
             "outlinewidth": 0,
             "ticks": ""
            },
            "type": "contourcarpet"
           }
          ],
          "heatmap": [
           {
            "colorbar": {
             "outlinewidth": 0,
             "ticks": ""
            },
            "colorscale": [
             [
              0,
              "#0d0887"
             ],
             [
              0.1111111111111111,
              "#46039f"
             ],
             [
              0.2222222222222222,
              "#7201a8"
             ],
             [
              0.3333333333333333,
              "#9c179e"
             ],
             [
              0.4444444444444444,
              "#bd3786"
             ],
             [
              0.5555555555555556,
              "#d8576b"
             ],
             [
              0.6666666666666666,
              "#ed7953"
             ],
             [
              0.7777777777777778,
              "#fb9f3a"
             ],
             [
              0.8888888888888888,
              "#fdca26"
             ],
             [
              1,
              "#f0f921"
             ]
            ],
            "type": "heatmap"
           }
          ],
          "heatmapgl": [
           {
            "colorbar": {
             "outlinewidth": 0,
             "ticks": ""
            },
            "colorscale": [
             [
              0,
              "#0d0887"
             ],
             [
              0.1111111111111111,
              "#46039f"
             ],
             [
              0.2222222222222222,
              "#7201a8"
             ],
             [
              0.3333333333333333,
              "#9c179e"
             ],
             [
              0.4444444444444444,
              "#bd3786"
             ],
             [
              0.5555555555555556,
              "#d8576b"
             ],
             [
              0.6666666666666666,
              "#ed7953"
             ],
             [
              0.7777777777777778,
              "#fb9f3a"
             ],
             [
              0.8888888888888888,
              "#fdca26"
             ],
             [
              1,
              "#f0f921"
             ]
            ],
            "type": "heatmapgl"
           }
          ],
          "histogram": [
           {
            "marker": {
             "pattern": {
              "fillmode": "overlay",
              "size": 10,
              "solidity": 0.2
             }
            },
            "type": "histogram"
           }
          ],
          "histogram2d": [
           {
            "colorbar": {
             "outlinewidth": 0,
             "ticks": ""
            },
            "colorscale": [
             [
              0,
              "#0d0887"
             ],
             [
              0.1111111111111111,
              "#46039f"
             ],
             [
              0.2222222222222222,
              "#7201a8"
             ],
             [
              0.3333333333333333,
              "#9c179e"
             ],
             [
              0.4444444444444444,
              "#bd3786"
             ],
             [
              0.5555555555555556,
              "#d8576b"
             ],
             [
              0.6666666666666666,
              "#ed7953"
             ],
             [
              0.7777777777777778,
              "#fb9f3a"
             ],
             [
              0.8888888888888888,
              "#fdca26"
             ],
             [
              1,
              "#f0f921"
             ]
            ],
            "type": "histogram2d"
           }
          ],
          "histogram2dcontour": [
           {
            "colorbar": {
             "outlinewidth": 0,
             "ticks": ""
            },
            "colorscale": [
             [
              0,
              "#0d0887"
             ],
             [
              0.1111111111111111,
              "#46039f"
             ],
             [
              0.2222222222222222,
              "#7201a8"
             ],
             [
              0.3333333333333333,
              "#9c179e"
             ],
             [
              0.4444444444444444,
              "#bd3786"
             ],
             [
              0.5555555555555556,
              "#d8576b"
             ],
             [
              0.6666666666666666,
              "#ed7953"
             ],
             [
              0.7777777777777778,
              "#fb9f3a"
             ],
             [
              0.8888888888888888,
              "#fdca26"
             ],
             [
              1,
              "#f0f921"
             ]
            ],
            "type": "histogram2dcontour"
           }
          ],
          "mesh3d": [
           {
            "colorbar": {
             "outlinewidth": 0,
             "ticks": ""
            },
            "type": "mesh3d"
           }
          ],
          "parcoords": [
           {
            "line": {
             "colorbar": {
              "outlinewidth": 0,
              "ticks": ""
             }
            },
            "type": "parcoords"
           }
          ],
          "pie": [
           {
            "automargin": true,
            "type": "pie"
           }
          ],
          "scatter": [
           {
            "marker": {
             "colorbar": {
              "outlinewidth": 0,
              "ticks": ""
             }
            },
            "type": "scatter"
           }
          ],
          "scatter3d": [
           {
            "line": {
             "colorbar": {
              "outlinewidth": 0,
              "ticks": ""
             }
            },
            "marker": {
             "colorbar": {
              "outlinewidth": 0,
              "ticks": ""
             }
            },
            "type": "scatter3d"
           }
          ],
          "scattercarpet": [
           {
            "marker": {
             "colorbar": {
              "outlinewidth": 0,
              "ticks": ""
             }
            },
            "type": "scattercarpet"
           }
          ],
          "scattergeo": [
           {
            "marker": {
             "colorbar": {
              "outlinewidth": 0,
              "ticks": ""
             }
            },
            "type": "scattergeo"
           }
          ],
          "scattergl": [
           {
            "marker": {
             "colorbar": {
              "outlinewidth": 0,
              "ticks": ""
             }
            },
            "type": "scattergl"
           }
          ],
          "scattermapbox": [
           {
            "marker": {
             "colorbar": {
              "outlinewidth": 0,
              "ticks": ""
             }
            },
            "type": "scattermapbox"
           }
          ],
          "scatterpolar": [
           {
            "marker": {
             "colorbar": {
              "outlinewidth": 0,
              "ticks": ""
             }
            },
            "type": "scatterpolar"
           }
          ],
          "scatterpolargl": [
           {
            "marker": {
             "colorbar": {
              "outlinewidth": 0,
              "ticks": ""
             }
            },
            "type": "scatterpolargl"
           }
          ],
          "scatterternary": [
           {
            "marker": {
             "colorbar": {
              "outlinewidth": 0,
              "ticks": ""
             }
            },
            "type": "scatterternary"
           }
          ],
          "surface": [
           {
            "colorbar": {
             "outlinewidth": 0,
             "ticks": ""
            },
            "colorscale": [
             [
              0,
              "#0d0887"
             ],
             [
              0.1111111111111111,
              "#46039f"
             ],
             [
              0.2222222222222222,
              "#7201a8"
             ],
             [
              0.3333333333333333,
              "#9c179e"
             ],
             [
              0.4444444444444444,
              "#bd3786"
             ],
             [
              0.5555555555555556,
              "#d8576b"
             ],
             [
              0.6666666666666666,
              "#ed7953"
             ],
             [
              0.7777777777777778,
              "#fb9f3a"
             ],
             [
              0.8888888888888888,
              "#fdca26"
             ],
             [
              1,
              "#f0f921"
             ]
            ],
            "type": "surface"
           }
          ],
          "table": [
           {
            "cells": {
             "fill": {
              "color": "#EBF0F8"
             },
             "line": {
              "color": "white"
             }
            },
            "header": {
             "fill": {
              "color": "#C8D4E3"
             },
             "line": {
              "color": "white"
             }
            },
            "type": "table"
           }
          ]
         },
         "layout": {
          "annotationdefaults": {
           "arrowcolor": "#2a3f5f",
           "arrowhead": 0,
           "arrowwidth": 1
          },
          "autotypenumbers": "strict",
          "coloraxis": {
           "colorbar": {
            "outlinewidth": 0,
            "ticks": ""
           }
          },
          "colorscale": {
           "diverging": [
            [
             0,
             "#8e0152"
            ],
            [
             0.1,
             "#c51b7d"
            ],
            [
             0.2,
             "#de77ae"
            ],
            [
             0.3,
             "#f1b6da"
            ],
            [
             0.4,
             "#fde0ef"
            ],
            [
             0.5,
             "#f7f7f7"
            ],
            [
             0.6,
             "#e6f5d0"
            ],
            [
             0.7,
             "#b8e186"
            ],
            [
             0.8,
             "#7fbc41"
            ],
            [
             0.9,
             "#4d9221"
            ],
            [
             1,
             "#276419"
            ]
           ],
           "sequential": [
            [
             0,
             "#0d0887"
            ],
            [
             0.1111111111111111,
             "#46039f"
            ],
            [
             0.2222222222222222,
             "#7201a8"
            ],
            [
             0.3333333333333333,
             "#9c179e"
            ],
            [
             0.4444444444444444,
             "#bd3786"
            ],
            [
             0.5555555555555556,
             "#d8576b"
            ],
            [
             0.6666666666666666,
             "#ed7953"
            ],
            [
             0.7777777777777778,
             "#fb9f3a"
            ],
            [
             0.8888888888888888,
             "#fdca26"
            ],
            [
             1,
             "#f0f921"
            ]
           ],
           "sequentialminus": [
            [
             0,
             "#0d0887"
            ],
            [
             0.1111111111111111,
             "#46039f"
            ],
            [
             0.2222222222222222,
             "#7201a8"
            ],
            [
             0.3333333333333333,
             "#9c179e"
            ],
            [
             0.4444444444444444,
             "#bd3786"
            ],
            [
             0.5555555555555556,
             "#d8576b"
            ],
            [
             0.6666666666666666,
             "#ed7953"
            ],
            [
             0.7777777777777778,
             "#fb9f3a"
            ],
            [
             0.8888888888888888,
             "#fdca26"
            ],
            [
             1,
             "#f0f921"
            ]
           ]
          },
          "colorway": [
           "#636efa",
           "#EF553B",
           "#00cc96",
           "#ab63fa",
           "#FFA15A",
           "#19d3f3",
           "#FF6692",
           "#B6E880",
           "#FF97FF",
           "#FECB52"
          ],
          "font": {
           "color": "#2a3f5f"
          },
          "geo": {
           "bgcolor": "white",
           "lakecolor": "white",
           "landcolor": "#E5ECF6",
           "showlakes": true,
           "showland": true,
           "subunitcolor": "white"
          },
          "hoverlabel": {
           "align": "left"
          },
          "hovermode": "closest",
          "mapbox": {
           "style": "light"
          },
          "paper_bgcolor": "white",
          "plot_bgcolor": "#E5ECF6",
          "polar": {
           "angularaxis": {
            "gridcolor": "white",
            "linecolor": "white",
            "ticks": ""
           },
           "bgcolor": "#E5ECF6",
           "radialaxis": {
            "gridcolor": "white",
            "linecolor": "white",
            "ticks": ""
           }
          },
          "scene": {
           "xaxis": {
            "backgroundcolor": "#E5ECF6",
            "gridcolor": "white",
            "gridwidth": 2,
            "linecolor": "white",
            "showbackground": true,
            "ticks": "",
            "zerolinecolor": "white"
           },
           "yaxis": {
            "backgroundcolor": "#E5ECF6",
            "gridcolor": "white",
            "gridwidth": 2,
            "linecolor": "white",
            "showbackground": true,
            "ticks": "",
            "zerolinecolor": "white"
           },
           "zaxis": {
            "backgroundcolor": "#E5ECF6",
            "gridcolor": "white",
            "gridwidth": 2,
            "linecolor": "white",
            "showbackground": true,
            "ticks": "",
            "zerolinecolor": "white"
           }
          },
          "shapedefaults": {
           "line": {
            "color": "#2a3f5f"
           }
          },
          "ternary": {
           "aaxis": {
            "gridcolor": "white",
            "linecolor": "white",
            "ticks": ""
           },
           "baxis": {
            "gridcolor": "white",
            "linecolor": "white",
            "ticks": ""
           },
           "bgcolor": "#E5ECF6",
           "caxis": {
            "gridcolor": "white",
            "linecolor": "white",
            "ticks": ""
           }
          },
          "title": {
           "x": 0.05
          },
          "xaxis": {
           "automargin": true,
           "gridcolor": "white",
           "linecolor": "white",
           "ticks": "",
           "title": {
            "standoff": 15
           },
           "zerolinecolor": "white",
           "zerolinewidth": 2
          },
          "yaxis": {
           "automargin": true,
           "gridcolor": "white",
           "linecolor": "white",
           "ticks": "",
           "title": {
            "standoff": 15
           },
           "zerolinecolor": "white",
           "zerolinewidth": 2
          }
         }
        },
        "xaxis": {
         "anchor": "y",
         "domain": [
          0,
          1
         ],
         "title": {
          "text": "Sport"
         }
        },
        "yaxis": {
         "anchor": "x",
         "domain": [
          0,
          1
         ],
         "title": {
          "text": "value"
         }
        }
       }
      }
     },
     "metadata": {},
     "output_type": "display_data"
    }
   ],
   "source": [
    "russia_female_data = russia_data[russia_data[\"Sex\"].isin([\"F\"])].reset_index(drop=True)\n",
    "russia_male_data = russia_data[russia_data[\"Sex\"].isin([\"M\"])].reset_index(drop=True)\n",
    "russia_female_sports = russia_female_data[\"Sport\"].value_counts().reset_index().rename({\"Sport\": \"Female count\", \"index\": \"Sport\"}, axis=\"columns\")\n",
    "russia_male_sports = russia_male_data[\"Sport\"].value_counts().reset_index().rename({\"Sport\": \"Male count\", \"index\": \"Sport\"}, axis=\"columns\")\n",
    "russia_male_sports = russia_male_sports.sort_values(by=\"Sport\", ascending=True).reset_index(drop=True)\n",
    "russia_female_sports = russia_female_sports.sort_values(by=\"Sport\", ascending=True)\n",
    "russia_sports_genders = russia_male_sports\n",
    "russia_sports_genders = russia_sports_genders.merge(russia_female_sports, how=\"right\")\n",
    "russia_sports_genders = russia_sports_genders.fillna(0)\n",
    "russia_sports_genders = russia_sports_genders.sort_values(by=\"Male count\", ascending=False)\n",
    "fig = px.bar(russia_sports_genders, x=\"Sport\", y=[\"Male count\", \"Female count\"])\n",
    "fig.update_layout(barmode=\"group\")\n",
    "fig.show()"
   ]
  },
  {
   "cell_type": "markdown",
   "metadata": {},
   "source": [
    "## Exercise 2\n",
    "- Medal distribution for countries for every sport\n",
    "- Age distribution for countries for every sport\n",
    "- Age groups in diffrent columns"
   ]
  },
  {
   "cell_type": "code",
   "execution_count": null,
   "metadata": {},
   "outputs": [],
   "source": []
  }
 ],
 "metadata": {
  "interpreter": {
   "hash": "bc671ac5dcf0c04d0537d7ef61db74040aac90f2d832bed4a17e0aad2956bb51"
  },
  "kernelspec": {
   "display_name": "Python 3.9.6 64-bit",
   "language": "python",
   "name": "python3"
  },
  "language_info": {
   "codemirror_mode": {
    "name": "ipython",
    "version": 3
   },
   "file_extension": ".py",
   "mimetype": "text/x-python",
   "name": "python",
   "nbconvert_exporter": "python",
   "pygments_lexer": "ipython3",
   "version": "3.9.6"
  },
  "orig_nbformat": 4
 },
 "nbformat": 4,
 "nbformat_minor": 2
}
