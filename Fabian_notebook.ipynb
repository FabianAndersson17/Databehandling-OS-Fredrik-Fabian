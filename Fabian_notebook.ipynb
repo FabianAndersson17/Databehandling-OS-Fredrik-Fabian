{
 "cells": [
  {
   "cell_type": "markdown",
   "metadata": {},
   "source": [
    "## Uppigft 0 c)"
   ]
  },
  {
   "cell_type": "code",
   "execution_count": 1,
   "metadata": {},
   "outputs": [],
   "source": [
    "##setup\n",
    "import pandas as pd"
   ]
  },
  {
   "cell_type": "code",
   "execution_count": 4,
   "metadata": {},
   "outputs": [],
   "source": [
    "## Read datafiles\n",
    "athlete_path = \"Data/athlete_events.csv\"\n",
    "regions_path = \"Data/noc_regions.csv\"\n",
    "\n",
    "athlete_data = pd.read_csv(athlete_path)\n",
    "region_data = pd.read_csv(regions_path)"
   ]
  },
  {
   "cell_type": "code",
   "execution_count": 19,
   "metadata": {},
   "outputs": [
    {
     "name": "stdout",
     "output_type": "stream",
     "text": [
      "Sports in the dataset are Basketball\n",
      "Sports in the dataset are Judo\n",
      "Sports in the dataset are Football\n",
      "Sports in the dataset are Tug-Of-War\n",
      "Sports in the dataset are Speed Skating\n",
      "Sports in the dataset are Cross Country Skiing\n",
      "Sports in the dataset are Athletics\n",
      "Sports in the dataset are Ice Hockey\n",
      "Sports in the dataset are Swimming\n",
      "Sports in the dataset are Badminton\n",
      "Sports in the dataset are Sailing\n",
      "Sports in the dataset are Biathlon\n",
      "Sports in the dataset are Gymnastics\n",
      "Sports in the dataset are Art Competitions\n",
      "Sports in the dataset are Alpine Skiing\n",
      "Sports in the dataset are Handball\n",
      "Sports in the dataset are Weightlifting\n",
      "Sports in the dataset are Wrestling\n",
      "Sports in the dataset are Luge\n",
      "Sports in the dataset are Water Polo\n",
      "Sports in the dataset are Hockey\n",
      "Sports in the dataset are Rowing\n",
      "Sports in the dataset are Bobsleigh\n",
      "Sports in the dataset are Fencing\n",
      "Sports in the dataset are Equestrianism\n",
      "Sports in the dataset are Shooting\n",
      "Sports in the dataset are Boxing\n",
      "Sports in the dataset are Taekwondo\n",
      "Sports in the dataset are Cycling\n",
      "Sports in the dataset are Diving\n",
      "Sports in the dataset are Canoeing\n",
      "Sports in the dataset are Tennis\n",
      "Sports in the dataset are Modern Pentathlon\n",
      "Sports in the dataset are Figure Skating\n",
      "Sports in the dataset are Golf\n",
      "Sports in the dataset are Softball\n",
      "Sports in the dataset are Archery\n",
      "Sports in the dataset are Volleyball\n",
      "Sports in the dataset are Synchronized Swimming\n",
      "Sports in the dataset are Table Tennis\n",
      "Sports in the dataset are Nordic Combined\n",
      "Sports in the dataset are Baseball\n",
      "Sports in the dataset are Rhythmic Gymnastics\n",
      "Sports in the dataset are Freestyle Skiing\n",
      "Sports in the dataset are Rugby Sevens\n",
      "Sports in the dataset are Trampolining\n",
      "Sports in the dataset are Beach Volleyball\n",
      "Sports in the dataset are Triathlon\n",
      "Sports in the dataset are Ski Jumping\n",
      "Sports in the dataset are Curling\n",
      "Sports in the dataset are Snowboarding\n",
      "Sports in the dataset are Rugby\n",
      "Sports in the dataset are Short Track Speed Skating\n",
      "Sports in the dataset are Skeleton\n",
      "Sports in the dataset are Lacrosse\n",
      "Sports in the dataset are Polo\n",
      "Sports in the dataset are Cricket\n",
      "Sports in the dataset are Racquets\n",
      "Sports in the dataset are Motorboating\n",
      "Sports in the dataset are Military Ski Patrol\n",
      "Sports in the dataset are Croquet\n",
      "Sports in the dataset are Jeu De Paume\n",
      "Sports in the dataset are Roque\n",
      "Sports in the dataset are Alpinism\n",
      "Sports in the dataset are Basque Pelota\n",
      "Sports in the dataset are Aeronautics\n"
     ]
    }
   ],
   "source": [
    "sports_in_dataset = athlete_data[\"Sport\"].unique()\n",
    "list_index = 0\n",
    "for _ in sports_in_dataset:\n",
    "    print(f\"Sports in the dataset are {sports_in_dataset[list_index]}\")\n",
    "    list_index += 1\n"
   ]
  },
  {
   "cell_type": "code",
   "execution_count": 51,
   "metadata": {},
   "outputs": [
    {
     "data": {
      "text/plain": [
       "[nan, 'Gold', 'Bronze', 'Silver']"
      ]
     },
     "execution_count": 51,
     "metadata": {},
     "output_type": "execute_result"
    }
   ],
   "source": [
    "type_of_medals = athlete_data[\"Medal\"].unique()\n",
    "type_of_medals = type_of_medals.tolist()\n",
    "type_of_medals"
   ]
  }
 ],
 "metadata": {
  "interpreter": {
   "hash": "bc671ac5dcf0c04d0537d7ef61db74040aac90f2d832bed4a17e0aad2956bb51"
  },
  "kernelspec": {
   "display_name": "Python 3.9.6 64-bit",
   "language": "python",
   "name": "python3"
  },
  "language_info": {
   "codemirror_mode": {
    "name": "ipython",
    "version": 3
   },
   "file_extension": ".py",
   "mimetype": "text/x-python",
   "name": "python",
   "nbconvert_exporter": "python",
   "pygments_lexer": "ipython3",
   "version": "3.9.6"
  },
  "orig_nbformat": 4
 },
 "nbformat": 4,
 "nbformat_minor": 2
}
